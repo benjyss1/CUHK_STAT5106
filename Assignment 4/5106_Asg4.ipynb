{
  "nbformat": 4,
  "nbformat_minor": 0,
  "metadata": {
    "colab": {
      "name": "STAT5106-Asg4.ipynb",
      "provenance": [],
      "collapsed_sections": []
    },
    "kernelspec": {
      "name": "python3",
      "display_name": "Python 3"
    },
    "language_info": {
      "name": "python"
    }
  },
  "cells": [
    {
      "cell_type": "code",
      "metadata": {
        "id": "IW0_YUL9ufk-",
        "colab": {
          "base_uri": "https://localhost:8080/"
        },
        "outputId": "5f5b5f62-82a8-40f3-ac32-15672cdf1bf9"
      },
      "source": [
        "from google.colab import drive\n",
        "import urllib\n",
        "import os\n",
        "import json\n",
        "drive.mount('/content/drive')\n",
        "os.chdir('/content/drive/My Drive/STAT5106_asg4')\n",
        "import GeoAPI_functions_for_assignment as geoapi"
      ],
      "execution_count": null,
      "outputs": [
        {
          "output_type": "stream",
          "name": "stdout",
          "text": [
            "Mounted at /content/drive\n"
          ]
        }
      ]
    },
    {
      "cell_type": "code",
      "metadata": {
        "colab": {
          "base_uri": "https://localhost:8080/"
        },
        "id": "SKlO-OztyRSG",
        "outputId": "9c86e0a2-45d3-446c-e045-d03fe3ada8f2"
      },
      "source": [
        "#Q1\n",
        "def getRoute(origin, destination):\n",
        "  try:\n",
        "    resp = geoapi.getGeojs_route(origin, destination)\n",
        "    routes = resp[\"routes\"]\n",
        "    distance = routes[0][\"distance\"] / 1000\n",
        "    duration = routes[0][\"duration\"] / 60\n",
        "    return {'Dist': distance, 'Time': duration}\n",
        "  except:\n",
        "    return None\n",
        "\n",
        "#UAT #1\n",
        "getRoute('Ocean Park', 'The Chinese University of Hong Kong')"
      ],
      "execution_count": null,
      "outputs": [
        {
          "output_type": "execute_result",
          "data": {
            "text/plain": [
              "{'Dist': 27.1549, 'Time': 35.255}"
            ]
          },
          "metadata": {},
          "execution_count": 2
        }
      ]
    },
    {
      "cell_type": "code",
      "metadata": {
        "id": "EFUb5RP0yVLX",
        "colab": {
          "base_uri": "https://localhost:8080/"
        },
        "outputId": "a45730f4-4edd-4b3a-bc63-c56332508903"
      },
      "source": [
        "#Q2\n",
        "tunnel_fares = geoapi.getTunnelFares()\n",
        "def getRoute(origin, destination):\n",
        "  try:\n",
        "    resp = geoapi.getGeojs_route(origin, destination)\n",
        "    routes = resp[\"routes\"]\n",
        "    tunnels = list(map(lambda x: x[0],\n",
        "                       filter(lambda x: x, #filter invalid values\n",
        "                              map(lambda x: [s for s in tunnel_fares.keys() if s in x[\"name\"].replace(\"-\", \" \")], #map the tunnel from the response object\n",
        "                                  routes[0][\"legs\"][0][\"steps\"])\n",
        "                              )\n",
        "                       )\n",
        "    )\n",
        "    distance = routes[0][\"distance\"] / 1000\n",
        "    duration = routes[0][\"duration\"] / 60\n",
        "    return {'Dist': distance, 'Time': duration, 'TollRoads': sorted(list(set(tunnels)))}\n",
        "  except:\n",
        "    return None\n",
        "\n",
        "def getRoute_offline(txtfile_name):\n",
        "  try:\n",
        "    with open(txtfile_name,\"r\") as f:\n",
        "      s = f.read()\n",
        "    js = json.loads(s)\n",
        "  except:\n",
        "    js = None\n",
        "  return js\n",
        "\n",
        "\n",
        "#UAT #2\n",
        "print(getRoute('Ocean Park', 'The Chinese University of Hong Kong'))\n",
        "#UAT #3\n",
        "print(getRoute('Cyberport', 'The Chinese University of Hong Kong'))\n",
        "#UAT #4\n",
        "print(getRoute('Cityplaza', 'The Chinese University of Hong Kong'))\n",
        "#UAT #5\n",
        "print(getRoute('Tai Po Market Station', 'The Chinese University of Hong Kong'))"
      ],
      "execution_count": null,
      "outputs": [
        {
          "output_type": "stream",
          "name": "stdout",
          "text": [
            "{'Dist': 27.1549, 'Time': 35.255, 'TollRoads': ['Aberdeen Tunnel', 'Cross Harbour Tunnel', 'Lion Rock Tunnel']}\n",
            "{'Dist': 26.5033, 'Time': 32.675, 'TollRoads': ['Tsing Sha Highway', 'Western Harbour Crossing']}\n",
            "{'Dist': 24.4894, 'Time': 30.15, 'TollRoads': ['Eastern Harbour Crossing', \"Tate's Cairn Tunnel\"]}\n",
            "{'Dist': 7.5811, 'Time': 12.711666666666668, 'TollRoads': []}\n"
          ]
        }
      ]
    },
    {
      "cell_type": "code",
      "metadata": {
        "id": "WoUgYhxqzMot",
        "colab": {
          "base_uri": "https://localhost:8080/"
        },
        "outputId": "e7de4d17-0478-4da4-b1fd-5fcc066bceec"
      },
      "source": [
        "#Q3\n",
        "def getRawTaxiFare(dist_km, TaxiType='urban'):\n",
        "  threshold_longdist = {'urban': 9.0, 'nt': 8.0, 'lantau': 20.0}\n",
        "  threshold_fare = {'urban': 83.5, 'nt': 65.5, 'lantau': 154.0}\n",
        "  \n",
        "  start_fare = {'urban': 24.0, 'nt': 20.5, 'lantau': 19.0}\n",
        "  tick_fare = {'urban': 1.7, 'nt': 1.5, 'lantau': 1.5}\n",
        "  longdist_tick_fare = {'urban': 1.2, 'nt': 1.2, 'lantau': 1.4}\n",
        "  \n",
        "  TaxiType = TaxiType.lower()\n",
        "  fare = None\n",
        "  try:\n",
        "    if dist_km > threshold_longdist[TaxiType]:\n",
        "      # if fare > 83.5 or km > 9.0, for each tick = $1.2\n",
        "      n_tick = (dist_km - threshold_longdist[TaxiType]) *1000 // 200\n",
        "      fare = threshold_fare[TaxiType] + n_tick * longdist_tick_fare[TaxiType]\n",
        "    elif dist_km > 2.0:\n",
        "      n_tick = (dist_km - 2.0)*1000 // 200\n",
        "      fare = start_fare[TaxiType] + n_tick * tick_fare[TaxiType]\n",
        "    else:\n",
        "      # meter not tick\n",
        "      n_tick = 0\n",
        "      fare = start_fare[TaxiType]\n",
        "  except:\n",
        "      print('Something goes wrong !')\n",
        "      fare = None\n",
        "\n",
        "  return fare\n",
        "\n",
        "def TaxiFare(origin, destination, TaxiType='urban', useFile = None):\n",
        "  tunnel_fares = geoapi.getTunnelFares()\n",
        "  fare = None\n",
        "  try:\n",
        "    r = getRoute(origin, destination, useFile)\n",
        "    rawFare = getRawTaxiFare(r[\"Dist\"], TaxiType)\n",
        "    selectedTunnelFare = sum({ k: tunnel_fares[k] for k in r[\"TollRoads\"] }.values())\n",
        "    fare = rawFare + selectedTunnelFare\n",
        "  except:\n",
        "    fare = None\n",
        "  return fare\n",
        "\n",
        "#UAT #6\n",
        "print(TaxiFare('Ocean Park', 'The Chinese University of Hong Kong'))\n",
        "\n",
        "#UAT #7\n",
        "print(TaxiFare('Tai Po Market Station', 'The Chinese University of Hong Kong', TaxiType='NT'))\n",
        "\n",
        "#UAT #8\n",
        "print(TaxiFare('Tsuen Wan Station', 'The Chinese University of Hong Kong', TaxiType='NT'))"
      ],
      "execution_count": null,
      "outputs": [
        {
          "output_type": "stream",
          "name": "stdout",
          "text": [
            "224.5\n",
            "61.0\n",
            "118.5\n"
          ]
        }
      ]
    },
    {
      "cell_type": "code",
      "metadata": {
        "id": "V8ljgkK7rNjm"
      },
      "source": [
        ""
      ],
      "execution_count": null,
      "outputs": []
    }
  ]
}